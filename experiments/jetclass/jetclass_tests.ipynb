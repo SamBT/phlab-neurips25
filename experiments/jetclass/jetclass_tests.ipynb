{
 "cells": [
  {
   "cell_type": "code",
   "execution_count": 11,
   "id": "905ced28-c45f-4b44-9d2d-6cded02e5c03",
   "metadata": {},
   "outputs": [
    {
     "name": "stdout",
     "output_type": "stream",
     "text": [
      "The autoreload extension is already loaded. To reload it, use:\n",
      "  %reload_ext autoreload\n"
     ]
    }
   ],
   "source": [
    "%load_ext autoreload\n",
    "%autoreload 2\n",
    "\n",
    "import torch\n",
    "import torch.nn as nn\n",
    "import torch.nn.functional as F\n",
    "from torch.utils.data import DataLoader, Dataset, TensorDataset, ConcatDataset\n",
    "import numpy as np\n",
    "import matplotlib.pyplot as plt\n",
    "import yaml\n",
    "from tqdm import tqdm\n",
    "\n",
    "import sys\n",
    "sys.path.append(\"/n/home11/sambt/phlab-neurips25\")"
   ]
  },
  {
   "cell_type": "code",
   "execution_count": 14,
   "id": "25f9d5d5-fb68-4f39-9e16-487d50c33ba2",
   "metadata": {},
   "outputs": [],
   "source": [
    "from data.datasets import JetClassDataset\n",
    "dset = JetClassDataset([\"qcd\",\"wqq\"],\"/n/home11/sambt/phlab-neurips25/configs/jetclass_data_configs/JetClass_full.yaml\", num_workers=1)"
   ]
  },
  {
   "cell_type": "code",
   "execution_count": 15,
   "id": "17b0f6a5-c835-49af-9a86-ead0bfe7330b",
   "metadata": {},
   "outputs": [],
   "source": [
    "loader = dset.train_dataloader()"
   ]
  },
  {
   "cell_type": "code",
   "execution_count": 16,
   "id": "e722f07c-6a5d-4f7f-86cc-5f16c446ec8f",
   "metadata": {},
   "outputs": [
    {
     "name": "stdout",
     "output_type": "stream",
     "text": [
      "=== Restarting DataIter train_worker0, seed=2054900675 ===\n"
     ]
    }
   ],
   "source": [
    "it = iter(loader)"
   ]
  },
  {
   "cell_type": "code",
   "execution_count": 17,
   "id": "f9587a1f-871b-4f3c-b423-372640ca0c5e",
   "metadata": {},
   "outputs": [],
   "source": [
    "batch = next(it)"
   ]
  },
  {
   "cell_type": "code",
   "execution_count": 29,
   "id": "144633f8-c990-4103-82ec-abbe37c50887",
   "metadata": {},
   "outputs": [
    {
     "data": {
      "text/plain": [
       "dict_keys(['pf_points', 'pf_features', 'pf_vectors', 'pf_mask'])"
      ]
     },
     "execution_count": 29,
     "metadata": {},
     "output_type": "execute_result"
    }
   ],
   "source": [
    "batch[0].keys()"
   ]
  },
  {
   "cell_type": "code",
   "execution_count": null,
   "id": "9eddbd69-a8ca-47e3-8c40-a91f354c7c88",
   "metadata": {},
   "outputs": [],
   "source": []
  }
 ],
 "metadata": {
  "kernelspec": {
   "display_name": "Python [conda env:mamba-torch_gpu]",
   "language": "python",
   "name": "conda-env-mamba-torch_gpu-py"
  },
  "language_info": {
   "codemirror_mode": {
    "name": "ipython",
    "version": 3
   },
   "file_extension": ".py",
   "mimetype": "text/x-python",
   "name": "python",
   "nbconvert_exporter": "python",
   "pygments_lexer": "ipython3",
   "version": "3.10.15"
  }
 },
 "nbformat": 4,
 "nbformat_minor": 5
}
