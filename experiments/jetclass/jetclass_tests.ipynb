{
 "cells": [
  {
   "cell_type": "code",
   "execution_count": 1,
   "id": "905ced28-c45f-4b44-9d2d-6cded02e5c03",
   "metadata": {},
   "outputs": [
    {
     "name": "stderr",
     "output_type": "stream",
     "text": [
      "/n/holystore01/LABS/iaifi_lab/Users/sambt/mamba/envs/torch_gpu/lib/python3.10/site-packages/pandas/core/computation/expressions.py:21: UserWarning: Pandas requires version '2.8.4' or newer of 'numexpr' (version '2.7.3' currently installed).\n",
      "  from pandas.core.computation.check import NUMEXPR_INSTALLED\n"
     ]
    }
   ],
   "source": [
    "%load_ext autoreload\n",
    "%autoreload 2\n",
    "\n",
    "import torch\n",
    "import torch.nn as nn\n",
    "import torch.nn.functional as F\n",
    "from torch.utils.data import DataLoader, Dataset, TensorDataset, ConcatDataset\n",
    "import numpy as np\n",
    "import matplotlib.pyplot as plt\n",
    "import yaml\n",
    "from tqdm import tqdm\n",
    "import torchvision.transforms.v2 as v2\n",
    "from copy import deepcopy\n",
    "import sys\n",
    "sys.path.append(\"/n/home11/sambt/phlab-neurips25\")\n",
    "\n",
    "device = 'cuda' if torch.cuda.is_available() else 'cpu'\n",
    "\n",
    "from models.litmodels import SimCLRModel\n",
    "from models.networks import CustomResNet, MLP\n",
    "from models.losses import MMDLoss, RBF\n",
    "from data.datasets import CIFAR10Dataset\n",
    "from data.cifar import CIFAR5MDataset\n",
    "import data.data_utils as dutils\n",
    "\n",
    "from sklearn.metrics import roc_auc_score, top_k_accuracy_score\n",
    "from utils.plotting import make_corner"
   ]
  },
  {
   "cell_type": "code",
   "execution_count": 2,
   "id": "25f9d5d5-fb68-4f39-9e16-487d50c33ba2",
   "metadata": {},
   "outputs": [],
   "source": [
    "from data.datasets import JetClassDataset\n",
    "dset = JetClassDataset([\"qcd\",\"ttbar\",\"wqq\",\"zqq\",\"hbb\"],\n",
    "                       \"/n/home11/sambt/phlab-neurips25/configs/jetclass_data_configs/JetClass_full.yaml\",\n",
    "                       limit_test_files=1,\n",
    "                       batch_size=512,\n",
    "                       num_workers=1)"
   ]
  },
  {
   "cell_type": "code",
   "execution_count": 3,
   "id": "17b0f6a5-c835-49af-9a86-ead0bfe7330b",
   "metadata": {},
   "outputs": [
    {
     "name": "stdout",
     "output_type": "stream",
     "text": [
      "cfg_block: {'embed_dim': 128, 'num_heads': 8, 'ffn_ratio': 4, 'dropout': 0.1, 'attn_dropout': 0.1, 'activation_dropout': 0.1, 'add_bias_kv': False, 'activation': 'gelu', 'scale_fc': True, 'scale_attn': True, 'scale_heads': True, 'scale_resids': True}\n",
      "cfg_cls_block: {'embed_dim': 128, 'num_heads': 8, 'ffn_ratio': 4, 'dropout': 0, 'attn_dropout': 0, 'activation_dropout': 0, 'add_bias_kv': False, 'activation': 'gelu', 'scale_fc': True, 'scale_attn': True, 'scale_heads': True, 'scale_resids': True}\n"
     ]
    },
    {
     "name": "stderr",
     "output_type": "stream",
     "text": [
      "/n/holystore01/LABS/iaifi_lab/Users/sambt/mamba/envs/torch_gpu/lib/python3.10/site-packages/lightning/pytorch/utilities/parsing.py:209: Attribute 'encoder' is an instance of `nn.Module` and is already saved during checkpointing. It is recommended to ignore them using `self.save_hyperparameters(ignore=['encoder'])`.\n",
      "/n/holystore01/LABS/iaifi_lab/Users/sambt/mamba/envs/torch_gpu/lib/python3.10/site-packages/lightning/pytorch/utilities/parsing.py:209: Attribute 'projector' is an instance of `nn.Module` and is already saved during checkpointing. It is recommended to ignore them using `self.save_hyperparameters(ignore=['projector'])`.\n"
     ]
    }
   ],
   "source": [
    "# T = 0.1\n",
    "checkpoint = \"/n/home11/sambt/phlab-neurips25/runs/jetClass_parT_simCLR_T0.1_withClassifier/lightning_logs/572ll2g9/checkpoints/epoch=11-step=1200.ckpt\"\n",
    "model = SimCLRModel.load_from_checkpoint(checkpoint)\n",
    "model = model.eval()\n",
    "model = model.to(device)\n",
    "\n",
    "test_loader = dset.test_dataloader()"
   ]
  },
  {
   "cell_type": "code",
   "execution_count": 4,
   "id": "e722f07c-6a5d-4f7f-86cc-5f16c446ec8f",
   "metadata": {},
   "outputs": [
    {
     "name": "stderr",
     "output_type": "stream",
     "text": [
      "0it [00:00, ?it/s]/n/holystore01/LABS/iaifi_lab/Users/sambt/mamba/envs/torch_gpu/lib/python3.10/site-packages/torch/nn/functional.py:5193: UserWarning: Support for mismatched key_padding_mask and attn_mask is deprecated. Use same type for both instead.\n",
      "  warnings.warn(\n",
      "977it [05:34,  2.92it/s]\n"
     ]
    }
   ],
   "source": [
    "n_processed = 0\n",
    "n_per_class = {}\n",
    "all_embeddings = []\n",
    "all_labels = []\n",
    "for batch in tqdm(test_loader):\n",
    "    x, labels, observers = batch\n",
    "    labels = labels['_label_'].numpy()\n",
    "    for k in x.keys():\n",
    "        x[k]=x[k].to(device)\n",
    "    with torch.no_grad():\n",
    "        embeds = model.encoder(x).cpu().numpy()\n",
    "    del x\n",
    "    torch.cuda.empty_cache()\n",
    "    all_embeddings.append(embeds)\n",
    "    all_labels.append(labels)"
   ]
  },
  {
   "cell_type": "code",
   "execution_count": 5,
   "id": "f9587a1f-871b-4f3c-b423-372640ca0c5e",
   "metadata": {},
   "outputs": [],
   "source": [
    "all_embeddings = np.concatenate(all_embeddings)\n",
    "all_labels = np.concatenate(all_labels)\n",
    "np.savez(\"jetClass_embeddings_T0.1.npz\",data=all_embeddings,labels=all_labels)"
   ]
  },
  {
   "cell_type": "code",
   "execution_count": 6,
   "id": "144633f8-c990-4103-82ec-abbe37c50887",
   "metadata": {},
   "outputs": [
    {
     "name": "stdout",
     "output_type": "stream",
     "text": [
      "cfg_block: {'embed_dim': 128, 'num_heads': 8, 'ffn_ratio': 4, 'dropout': 0.1, 'attn_dropout': 0.1, 'activation_dropout': 0.1, 'add_bias_kv': False, 'activation': 'gelu', 'scale_fc': True, 'scale_attn': True, 'scale_heads': True, 'scale_resids': True}\n",
      "cfg_cls_block: {'embed_dim': 128, 'num_heads': 8, 'ffn_ratio': 4, 'dropout': 0, 'attn_dropout': 0, 'activation_dropout': 0, 'add_bias_kv': False, 'activation': 'gelu', 'scale_fc': True, 'scale_attn': True, 'scale_heads': True, 'scale_resids': True}\n"
     ]
    },
    {
     "name": "stderr",
     "output_type": "stream",
     "text": [
      "/n/holystore01/LABS/iaifi_lab/Users/sambt/mamba/envs/torch_gpu/lib/python3.10/site-packages/lightning/pytorch/utilities/parsing.py:209: Attribute 'classifier' is an instance of `nn.Module` and is already saved during checkpointing. It is recommended to ignore them using `self.save_hyperparameters(ignore=['classifier'])`.\n"
     ]
    }
   ],
   "source": [
    "# T = 0.5\n",
    "checkpoint = \"/n/home11/sambt/phlab-neurips25/runs/jetClass_parT_simCLRWithClassifier_T0.5/lightning_logs/4kau78ed/checkpoints/epoch=28-step=2900.ckpt\"\n",
    "model = SimCLRModel.load_from_checkpoint(checkpoint)\n",
    "model = model.eval()\n",
    "model = model.to(device)\n",
    "\n",
    "test_loader = dset.test_dataloader()"
   ]
  },
  {
   "cell_type": "code",
   "execution_count": 7,
   "id": "9eddbd69-a8ca-47e3-8c40-a91f354c7c88",
   "metadata": {},
   "outputs": [
    {
     "name": "stderr",
     "output_type": "stream",
     "text": [
      "977it [03:21,  4.85it/s]\n"
     ]
    }
   ],
   "source": [
    "n_processed = 0\n",
    "n_per_class = {}\n",
    "all_embeddings = []\n",
    "all_labels = []\n",
    "for batch in tqdm(test_loader):\n",
    "    x, labels, observers = batch\n",
    "    labels = labels['_label_'].numpy()\n",
    "    for k in x.keys():\n",
    "        x[k]=x[k].to(device)\n",
    "    with torch.no_grad():\n",
    "        embeds = model.encoder(x).cpu().numpy()\n",
    "    del x\n",
    "    torch.cuda.empty_cache()\n",
    "    all_embeddings.append(embeds)\n",
    "    all_labels.append(labels)"
   ]
  },
  {
   "cell_type": "code",
   "execution_count": 8,
   "id": "c1e54cc1-cb58-42d7-a72e-bddb7b79d4a5",
   "metadata": {
    "tags": []
   },
   "outputs": [],
   "source": [
    "all_embeddings = np.concatenate(all_embeddings)\n",
    "all_labels = np.concatenate(all_labels)\n",
    "np.savez(\"jetClass_embeddings_T0.5.npz\",data=all_embeddings,labels=all_labels)"
   ]
  },
  {
   "cell_type": "markdown",
   "id": "d42e6923-20eb-4839-a5aa-b119bd7cb1c9",
   "metadata": {},
   "source": [
    "# train supervised classifier T = 0.1"
   ]
  },
  {
   "cell_type": "code",
   "execution_count": 15,
   "id": "50045d40-5077-4395-982a-aa64ac549f2b",
   "metadata": {},
   "outputs": [],
   "source": [
    "from sklearn.model_selection import train_test_split\n",
    "data = np.load(\"jetClass_embeddings_T0.1.npz\")\n",
    "bkg = data['data'][data['labels'] != 4]\n",
    "sig = data['data'][data['labels'] == 4]\n",
    "np.random.shuffle(bkg)\n",
    "np.random.shuffle(sig)\n",
    "\n",
    "bkg_train, bkg_test = train_test_split(bkg,test_size=0.5)\n",
    "sig_train, sig_test = train_test_split(sig,test_size=0.5)\n",
    "\n",
    "train_data = np.concatenate([bkg_train[:len(sig_train)],sig_train],axis=0)\n",
    "train_labels = np.concatenate([np.zeros(len(bkg_train[:len(sig_train)])),np.ones(len(sig_train))]).reshape(-1,1)\n",
    "perm = np.random.permutation(len(train_data))\n",
    "train_data = train_data[perm]\n",
    "train_labels = train_labels[perm]\n",
    "\n",
    "train_data, val_data, train_labels, val_labels = train_test_split(train_data,train_labels,test_size=0.1)\n",
    "\n",
    "train_dset = TensorDataset(torch.tensor(train_data),torch.tensor(train_labels))\n",
    "val_dset = TensorDataset(torch.tensor(val_data),torch.tensor(val_labels))\n",
    "train_loader = DataLoader(train_dset,batch_size=512,shuffle=True)\n",
    "val_loader = DataLoader(val_dset,batch_size=512,shuffle=True)"
   ]
  },
  {
   "cell_type": "code",
   "execution_count": 18,
   "id": "889c3aa1-8ba4-4439-9026-7baad5a123b5",
   "metadata": {},
   "outputs": [
    {
     "name": "stderr",
     "output_type": "stream",
     "text": [
      "100%|██████████| 50/50 [01:15<00:00,  1.52s/it]\n"
     ]
    },
    {
     "data": {
      "text/plain": [
       "<matplotlib.lines.Line2D at 0x14d70d57fbb0>"
      ]
     },
     "execution_count": 18,
     "metadata": {},
     "output_type": "execute_result"
    },
    {
     "data": {
      "image/png": "[encoded data removed]",
      "text/plain": [
       "<Figure size 800x600 with 1 Axes>"
      ]
     },
     "metadata": {},
     "output_type": "display_data"
    }
   ],
   "source": [
    "model = MLP(train_data.shape[1],[32,32,16],1,dropout=0.1).to(device)\n",
    "num_epochs = 50\n",
    "lr = 1e-3\n",
    "optimizer = torch.optim.AdamW(model.parameters(),lr=lr)\n",
    "\n",
    "train_loss = []\n",
    "val_loss = []\n",
    "best_loss = 1e6\n",
    "best_state = None\n",
    "best_ep = None\n",
    "patience = 0\n",
    "patience_lim = 10\n",
    "for i in tqdm(range(num_epochs)):\n",
    "    tlosses = []\n",
    "    if patience == patience_lim:\n",
    "        print('stopped improving')\n",
    "        break\n",
    "    for batch in train_loader:\n",
    "        x,lab = batch\n",
    "        preds = model(x.to(device))\n",
    "        loss = F.binary_cross_entropy_with_logits(preds,lab.to(device))\n",
    "        tlosses.append(loss.item())\n",
    "        optimizer.zero_grad()\n",
    "        loss.backward()\n",
    "        optimizer.step()\n",
    "    train_loss.append(np.mean(tlosses))\n",
    "    \n",
    "    vlosses = []\n",
    "    for batch in train_loader:\n",
    "        x,lab = batch\n",
    "        with torch.no_grad():\n",
    "            preds = model(x.to(device))\n",
    "        loss = F.binary_cross_entropy_with_logits(preds,lab.to(device))\n",
    "        vlosses.append(loss.item())\n",
    "    val_loss.append(np.mean(vlosses))\n",
    "    if val_loss[-1] < best_loss:\n",
    "        best_loss = val_loss[-1]\n",
    "        best_state = model.state_dict()\n",
    "        best_ep = i\n",
    "        patience = 0\n",
    "    else:\n",
    "        patience += 1\n",
    "\n",
    "plt.figure(figsize=(8,6))\n",
    "x = np.arange(len(train_loss))\n",
    "plt.plot(x,train_loss,label='train')\n",
    "plt.plot(x,val_loss,label='val')\n",
    "plt.axvline(best_ep,linestyle='--',color='red')"
   ]
  },
  {
   "cell_type": "code",
   "execution_count": 19,
   "id": "284397c0-633d-4fd8-9dbc-79763a1880b8",
   "metadata": {},
   "outputs": [],
   "source": [
    "model.load_state_dict(best_state)\n",
    "model = model.eval()"
   ]
  },
  {
   "cell_type": "code",
   "execution_count": 20,
   "id": "452c33df-a287-4f13-95a7-cdde11c994fd",
   "metadata": {},
   "outputs": [],
   "source": [
    "torch.save(model,\"jetClass_supClassifier_T0.1.pt\")"
   ]
  },
  {
   "cell_type": "code",
   "execution_count": 24,
   "id": "a5c86f62-d5d2-42c7-a067-f1c04f4defe6",
   "metadata": {},
   "outputs": [],
   "source": [
    "act = nn.Sigmoid()\n",
    "bkg_test_preds = []\n",
    "for x, in DataLoader(TensorDataset(torch.tensor(bkg_test)),batch_size=512,shuffle=False):\n",
    "    with torch.no_grad():\n",
    "        bkg_test_preds.append(act(model(x.to(device))).cpu().numpy())\n",
    "bkg_test_preds = np.concatenate(bkg_test_preds)\n",
    "\n",
    "sig_test_preds = []\n",
    "for x, in DataLoader(TensorDataset(torch.tensor(sig_test)),batch_size=512,shuffle=False):\n",
    "    with torch.no_grad():\n",
    "        sig_test_preds.append(act(model(x.to(device))).cpu().numpy())\n",
    "sig_test_preds = np.concatenate(sig_test_preds)"
   ]
  },
  {
   "cell_type": "code",
   "execution_count": 28,
   "id": "33f89014-5dde-410c-a92f-423ebd31b2e7",
   "metadata": {},
   "outputs": [
    {
     "data": {
      "image/png": "[encoded data removed]",
      "text/plain": [
       "<Figure size 800x600 with 1 Axes>"
      ]
     },
     "metadata": {},
     "output_type": "display_data"
    }
   ],
   "source": [
    "plt.figure(figsize=(8,6))\n",
    "bins = np.linspace(0,1,20)\n",
    "h1 = plt.hist(bkg_test_preds[:,0],bins=bins,density=True,histtype='step')\n",
    "h1 = plt.hist(sig_test_preds[:,0],bins=bins,density=True,histtype='step')"
   ]
  },
  {
   "cell_type": "code",
   "execution_count": 34,
   "id": "1bab7c94-5c2b-4d20-8e64-a1bd66a6d159",
   "metadata": {},
   "outputs": [
    {
     "data": {
      "text/plain": [
       "[<matplotlib.lines.Line2D at 0x14d70c301570>]"
      ]
     },
     "execution_count": 34,
     "metadata": {},
     "output_type": "execute_result"
    },
    {
     "data": {
      "image/png": "[encoded data removed]",
      "text/plain": [
       "<Figure size 800x600 with 1 Axes>"
      ]
     },
     "metadata": {},
     "output_type": "display_data"
    }
   ],
   "source": [
    "from scipy.stats import ks_2samp, norm\n",
    "bkg_ref = bkg_test_preds[:50000,0]\n",
    "bkg_inj = bkg_test_preds[50000:100000,0]\n",
    "\n",
    "sig_fracs = [0.001,0.002,0.003,0.004,0.005,0.006,0.007,0.008,0.009,\n",
    "             0.01,0.02,0.03,0.04,0.05,0.06,0.07,0.08,0.09,\n",
    "             0.1,0.15,0.2]\n",
    "pvalues = []\n",
    "zscores = []\n",
    "for sf in sig_fracs:\n",
    "    sig_sel = np.random.choice(sig_test_preds[:,0],size=int(sf*len(bkg_inj)),replace=False)\n",
    "    tot = np.concatenate([bkg_inj,sig_sel])\n",
    "    res = ks_2samp(bkg_ref,tot)\n",
    "    pvalues.append(res.pvalue)\n",
    "    zscores.append(norm.ppf(1-res.pvalue))\n",
    "\n",
    "plt.figure(figsize=(8,6))\n",
    "plt.plot(100*np.array(sig_fracs),zscores)"
   ]
  },
  {
   "cell_type": "code",
   "execution_count": 35,
   "id": "207c681b-7a20-46fb-8fff-3627df6e0fea",
   "metadata": {},
   "outputs": [],
   "source": [
    "np.savez(\"jetClass_T0.1_idealZscores_ks2sided_nref50k_nbkg50k.npz\",zscores=np.array(zscores),fracs=np.array(sig_fracs))"
   ]
  },
  {
   "cell_type": "code",
   "execution_count": null,
   "id": "1beb569f-7248-4101-9256-64533e464dcc",
   "metadata": {},
   "outputs": [],
   "source": []
  }
 ],
 "metadata": {
  "kernelspec": {
   "display_name": "Python [conda env:mamba-torch_gpu]",
   "language": "python",
   "name": "conda-env-mamba-torch_gpu-py"
  },
  "language_info": {
   "codemirror_mode": {
    "name": "ipython",
    "version": 3
   },
   "file_extension": ".py",
   "mimetype": "text/x-python",
   "name": "python",
   "nbconvert_exporter": "python",
   "pygments_lexer": "ipython3",
   "version": "3.10.15"
  }
 },
 "nbformat": 4,
 "nbformat_minor": 5
}
